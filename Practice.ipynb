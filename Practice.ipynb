{
 "cells": [
  {
   "attachments": {},
   "cell_type": "markdown",
   "metadata": {},
   "source": [
    "### Operators"
   ]
  },
  {
   "cell_type": "code",
   "execution_count": 30,
   "metadata": {},
   "outputs": [
    {
     "name": "stdout",
     "output_type": "stream",
     "text": [
      "Hello 10\n",
      "<class 'str'>\n"
     ]
    }
   ],
   "source": [
    "a=10\n",
    "b='Hello '\n",
    "c=b+str(a)\n",
    "print(c)\n",
    "print(type(c))"
   ]
  },
  {
   "attachments": {},
   "cell_type": "markdown",
   "metadata": {},
   "source": [
    "### Datatypes"
   ]
  },
  {
   "cell_type": "code",
   "execution_count": 31,
   "metadata": {},
   "outputs": [
    {
     "name": "stdout",
     "output_type": "stream",
     "text": [
      "{1, 2, 4, 6, 7}\n"
     ]
    }
   ],
   "source": [
    "a={1,2,2,4,6,7,6}\n",
    "print(a)"
   ]
  },
  {
   "cell_type": "code",
   "execution_count": 32,
   "metadata": {},
   "outputs": [
    {
     "name": "stdout",
     "output_type": "stream",
     "text": [
      "{'id_no': 1, 'name': 'Suyash'}\n"
     ]
    }
   ],
   "source": [
    "Employee = {\n",
    "    'id_no': 1,\n",
    "    'name' :'Suyash'\n",
    "}\n",
    "\n",
    "print(Employee)"
   ]
  },
  {
   "cell_type": "code",
   "execution_count": 33,
   "metadata": {},
   "outputs": [
    {
     "name": "stdout",
     "output_type": "stream",
     "text": [
      "50 <class 'int'>\n"
     ]
    }
   ],
   "source": [
    "a=int(input('Enter a number :'))\n",
    "print(a,type(a))"
   ]
  },
  {
   "cell_type": "code",
   "execution_count": 44,
   "metadata": {},
   "outputs": [
    {
     "name": "stdout",
     "output_type": "stream",
     "text": [
      "a=5,b=10,\n",
      "a+b=15,\n",
      "b-a=5,\n",
      "b/a=2.0,\n",
      "a*b=50,\n",
      "b//a=2,\n",
      "b**a=100000\n"
     ]
    }
   ],
   "source": [
    "a=int(input(\"Enter 1st number :\"))\n",
    "b=int(input(\"Enter 2nd number :\"))\n",
    "print(f'a={a},b={b},\\na+b={(b+a)},\\nb-a={(b-a)},\\nb/a={(b/a)},\\na*b={(b*a)},\\nb//a={(b//a)},\\nb**a={(b**a)}')"
   ]
  },
  {
   "cell_type": "code",
   "execution_count": 35,
   "metadata": {},
   "outputs": [
    {
     "data": {
      "text/plain": [
       "False"
      ]
     },
     "execution_count": 35,
     "metadata": {},
     "output_type": "execute_result"
    }
   ],
   "source": [
    "colors=['red','green','blue','yellow','brown','black']\n",
    "'black' not in colors"
   ]
  },
  {
   "attachments": {},
   "cell_type": "markdown",
   "metadata": {},
   "source": [
    "# ASSIGNMENT"
   ]
  },
  {
   "attachments": {},
   "cell_type": "markdown",
   "metadata": {},
   "source": [
    "## OPERATORS"
   ]
  },
  {
   "cell_type": "code",
   "execution_count": 36,
   "metadata": {},
   "outputs": [
    {
     "name": "stdout",
     "output_type": "stream",
     "text": [
      "True\n"
     ]
    }
   ],
   "source": [
    "x=4\n",
    "y=5\n",
    "z=x<y\n",
    "print(z)"
   ]
  },
  {
   "cell_type": "code",
   "execution_count": 37,
   "metadata": {},
   "outputs": [
    {
     "name": "stdout",
     "output_type": "stream",
     "text": [
      "helloworld\n"
     ]
    }
   ],
   "source": [
    "x='hello'\n",
    "y='world'\n",
    "z=x+y\n",
    "print(z)"
   ]
  },
  {
   "attachments": {},
   "cell_type": "markdown",
   "metadata": {},
   "source": [
    "#### not in"
   ]
  },
  {
   "cell_type": "code",
   "execution_count": 38,
   "metadata": {},
   "outputs": [
    {
     "name": "stdout",
     "output_type": "stream",
     "text": [
      "Number : 5\n",
      "<class 'int'>\n"
     ]
    }
   ],
   "source": [
    "num=int(input('Enter a number :'))\n",
    "print('Number :',num)\n",
    "print(type(num))"
   ]
  },
  {
   "cell_type": "code",
   "execution_count": 39,
   "metadata": {},
   "outputs": [
    {
     "name": "stdout",
     "output_type": "stream",
     "text": [
      "Cube Root of 29 : 3.072316825685847\n"
     ]
    }
   ],
   "source": [
    "print(\"Cube Root of 29 :\",29**(1/3))"
   ]
  },
  {
   "cell_type": "code",
   "execution_count": 40,
   "metadata": {},
   "outputs": [
    {
     "name": "stdout",
     "output_type": "stream",
     "text": [
      "True\n",
      "False\n",
      "False\n"
     ]
    }
   ],
   "source": [
    "colors=['red','green','blue','yellow','brown','black']\n",
    "print(('black' in colors) and ('blue' in colors))\n",
    "print(('black' not in colors) or ('blue' not in colors))\n",
    "print(not('black' in colors))\n"
   ]
  },
  {
   "cell_type": "code",
   "execution_count": 41,
   "metadata": {},
   "outputs": [
    {
     "name": "stdout",
     "output_type": "stream",
     "text": [
      "True\n",
      "True\n"
     ]
    }
   ],
   "source": [
    "x=[1,2]\n",
    "y=[3,4]\n",
    "z=x\n",
    "print(z is x)\n",
    "print(x is not y)"
   ]
  },
  {
   "attachments": {},
   "cell_type": "markdown",
   "metadata": {},
   "source": [
    "#### and"
   ]
  },
  {
   "cell_type": "code",
   "execution_count": 42,
   "metadata": {},
   "outputs": [
    {
     "name": "stdout",
     "output_type": "stream",
     "text": [
      "x : 15\n"
     ]
    }
   ],
   "source": [
    "x=5\n",
    "x*=3\n",
    "print('x :',x)"
   ]
  },
  {
   "attachments": {},
   "cell_type": "markdown",
   "metadata": {},
   "source": [
    "## DATATYPES"
   ]
  },
  {
   "attachments": {},
   "cell_type": "markdown",
   "metadata": {},
   "source": [
    "#### print(type(variable))"
   ]
  },
  {
   "attachments": {},
   "cell_type": "markdown",
   "metadata": {},
   "source": [
    "#### String"
   ]
  },
  {
   "attachments": {},
   "cell_type": "markdown",
   "metadata": {},
   "source": [
    "#### List"
   ]
  },
  {
   "attachments": {},
   "cell_type": "markdown",
   "metadata": {},
   "source": [
    "#### A List is mutable while a tuple is immutable"
   ]
  },
  {
   "attachments": {},
   "cell_type": "markdown",
   "metadata": {},
   "source": [
    "#### Set"
   ]
  },
  {
   "attachments": {},
   "cell_type": "markdown",
   "metadata": {},
   "source": [
    "#### All of the Above"
   ]
  },
  {
   "attachments": {},
   "cell_type": "markdown",
   "metadata": {},
   "source": [
    "#### Boolean"
   ]
  },
  {
   "cell_type": "code",
   "execution_count": 43,
   "metadata": {},
   "outputs": [
    {
     "ename": "TypeError",
     "evalue": "unsupported operand type(s) for +: 'int' and 'str'",
     "output_type": "error",
     "traceback": [
      "\u001b[1;31m---------------------------------------------------------------------------\u001b[0m",
      "\u001b[1;31mTypeError\u001b[0m                                 Traceback (most recent call last)",
      "Cell \u001b[1;32mIn[43], line 1\u001b[0m\n\u001b[1;32m----> 1\u001b[0m \u001b[39mprint\u001b[39m(\u001b[39m5\u001b[39;49m\u001b[39m+\u001b[39;49m\u001b[39m'\u001b[39;49m\u001b[39m2\u001b[39;49m\u001b[39m'\u001b[39;49m)\n",
      "\u001b[1;31mTypeError\u001b[0m: unsupported operand type(s) for +: 'int' and 'str'"
     ]
    }
   ],
   "source": [
    "print(5+'2')"
   ]
  },
  {
   "cell_type": "code",
   "execution_count": null,
   "metadata": {},
   "outputs": [
    {
     "name": "stdout",
     "output_type": "stream",
     "text": [
      "Converting String to float : 1.0\n",
      "Converting Integer to float : 1.0\n",
      "Converting Boolean to float : 1.0\n",
      "All of the above\n"
     ]
    }
   ],
   "source": [
    "a=print('Converting String to float :',float('1'))\n",
    "b=print('Converting Integer to float :',float(1))\n",
    "c=print('Converting Boolean to float :',float(True))\n",
    "if(a==b==c):\n",
    "    print('All of the above')"
   ]
  },
  {
   "cell_type": "code",
   "execution_count": null,
   "metadata": {},
   "outputs": [
    {
     "name": "stdout",
     "output_type": "stream",
     "text": [
      "Number : 50\n"
     ]
    }
   ],
   "source": [
    "num=int(input('Enter a number :'))\n",
    "print('Number :',num)"
   ]
  },
  {
   "attachments": {},
   "cell_type": "markdown",
   "metadata": {},
   "source": [
    "### 04/04/2023 (Conditional Statementotal_salary)"
   ]
  },
  {
   "cell_type": "code",
   "execution_count": 53,
   "metadata": {},
   "outputs": [
    {
     "name": "stdout",
     "output_type": "stream",
     "text": [
      "b is greater than 10\n",
      "c is greater than 10\n",
      "--b is greatest among all\n"
     ]
    }
   ],
   "source": [
    "a=10\n",
    "b=50\n",
    "c=20\n",
    "if a>10:\n",
    "    print('a is greater than 10')\n",
    "if b>10:\n",
    "    print('b is greater than 10')\n",
    "if c>10:\n",
    "    print('c is greater than 10')\n",
    "if a>b and a>c:\n",
    "    print(\"--a is greatest among all\")\n",
    "elif b>a and b>c:\n",
    "    print(\"--b is greatest among all\")\n",
    "else:\n",
    "    print(\"--c is greatest among all\")"
   ]
  },
  {
   "cell_type": "code",
   "execution_count": 51,
   "metadata": {},
   "outputs": [
    {
     "name": "stdout",
     "output_type": "stream",
     "text": [
      "Positive Number\n",
      "Number : 50\n"
     ]
    }
   ],
   "source": [
    "num=int(input())\n",
    "if num>=0:\n",
    "    if num==0:\n",
    "        print('Zero')\n",
    "    else:\n",
    "        print('Positive Number')\n",
    "else:\n",
    "    print('Negative Number')\n",
    "print('Number :',num)"
   ]
  },
  {
   "cell_type": "code",
   "execution_count": 1,
   "metadata": {},
   "outputs": [
    {
     "name": "stdout",
     "output_type": "stream",
     "text": [
      "Hurray! User Created!!🤡\n",
      "Username : suyash7\n",
      "Email : mihirsuyash78@gmailcom\n",
      "Password : suyash123\n"
     ]
    }
   ],
   "source": [
    "username=input('Enter Username :')\n",
    "email=input('Enter Email :')\n",
    "pwd=input('Enter Password :')\n",
    "pwd2=input('Confirm Password :')\n",
    "\n",
    "if len(username)>=4 and len(username)<=15:\n",
    "    if '@' in email and email.islower() and len(email)>10:\n",
    "        if len(pwd)>=5 and pwd!=username:\n",
    "            if pwd==pwd2:\n",
    "                print('Hurray! User Created!!🤡')\n",
    "                print('Username :',username)\n",
    "                print('Email :',email)\n",
    "                print('Password :',pwd)\n",
    "            else:\n",
    "                print('Passwords did not match🙃')\n",
    "        else:\n",
    "            print('Password is Invalid🙃')\n",
    "    else:\n",
    "         print('Email is Invalid🙃')\n",
    "else:\n",
    "     print('Username is Invalid🙃')\n"
   ]
  },
  {
   "attachments": {},
   "cell_type": "markdown",
   "metadata": {},
   "source": [
    "### 07/04/2023 (Slicing & Indexing)"
   ]
  },
  {
   "cell_type": "code",
   "execution_count": 14,
   "metadata": {},
   "outputs": [
    {
     "name": "stdout",
     "output_type": "stream",
     "text": [
      "Length of List :  13\n",
      "['aman', 'vineet', 'chinmay', 'prashant', 'hitesh', 'jayesh', 'rajesh']\n",
      "['vineet', 'chinmay', 'prashant', 'hitesh', 'jayesh', 'rajesh', 'karan', 'madhur', 'yash', 'ojasvee', 'zaid']\n",
      "['suyash', 'aman', 'vineet', 'chinmay', 'prashant']\n",
      "['zaid', 'ojasvee', 'yash', 'madhur', 'karan', 'rajesh', 'jayesh', 'hitesh', 'prashant', 'chinmay', 'vineet', 'aman', 'suyash']\n",
      "['aman', 'hitesh']\n",
      "['zaid', 'madhur', 'jayesh', 'chinmay']\n",
      "['jayesh', 'rajesh', 'karan', 'madhur', 'yash', 'ojasvee', 'zaid']\n"
     ]
    }
   ],
   "source": [
    "a=['suyash','aman','vineet','chinmay','prashant','hitesh','jayesh',\n",
    "    'rajesh','karan','madhur','yash','ojasvee','zaid']\n",
    "print('Length of List : ',len(a))\n",
    "print(a[1:8])\n",
    "print(a[2:])\n",
    "print(a[:5])\n",
    "print(a[::-1])\n",
    "print(a[1:8:4])\n",
    "print(a[12:1:-3])\n",
    "print(a[6:])\n"
   ]
  },
  {
   "cell_type": "code",
   "execution_count": 1,
   "metadata": {},
   "outputs": [
    {
     "name": "stdout",
     "output_type": "stream",
     "text": [
      "Total No. of apps : 25\n"
     ]
    }
   ],
   "source": [
    "b=['amazon','brave','chrome','docs','flipkart','gmail','gpay',\n",
    "   'hototal_salarytar','sony','voot','maps','meet','music','ola','rapido',\n",
    "   'paytm','spotify','telegram','instagram','whatotal_salaryapp','youtube',\n",
    "   'weather','radio','photos','messages']\n",
    "\n",
    "print(f'Total No. of apps : {len(b)}')"
   ]
  },
  {
   "attachments": {},
   "cell_type": "markdown",
   "metadata": {},
   "source": [
    "### Conditional Statementotal_salary(08/04/2023)"
   ]
  },
  {
   "cell_type": "code",
   "execution_count": 6,
   "metadata": {},
   "outputs": [
    {
     "name": "stdout",
     "output_type": "stream",
     "text": [
      "Total Salary of developer : 52000.0\n"
     ]
    }
   ],
   "source": [
    "designation = input('Enter the designation :')\n",
    "match designation :\n",
    "    case 'manager':\n",
    "        basic_salary = 50000\n",
    "        bonus_salary = basic_salary * 0.1\n",
    "        hra = basic_salary * 0.2\n",
    "        total_salary = basic_salary + bonus_salary + hra\n",
    "        print(f'Total Salary of {designation} : {total_salary}')\n",
    "    case 'developer':\n",
    "        basic_salary = 40000\n",
    "        bonus_salary = basic_salary * 0.1\n",
    "        hra = basic_salary * 0.2\n",
    "        total_salary = basic_salary + bonus_salary + hra\n",
    "        print(f'Total Salary of {designation} : {total_salary}')\n",
    "    case 'tester':\n",
    "        basic_salary = 30000\n",
    "        bonus_salary = basic_salary * 0.1\n",
    "        hra = basic_salary * 0.2\n",
    "        total_salary = basic_salary + bonus_salary + hra\n",
    "        print(f'Total Salary of {designation} : {total_salary}')\n",
    "    case _:\n",
    "        print('You are Fired')"
   ]
  },
  {
   "cell_type": "code",
   "execution_count": 13,
   "metadata": {},
   "outputs": [
    {
     "name": "stdout",
     "output_type": "stream",
     "text": [
      "Our Team DESIGNED NICE LOADING SCREENS....Too bad you wont see them...😆\n"
     ]
    }
   ],
   "source": [
    "cpuModel = input('Enter CPU Model :')\n",
    "match cpuModel:\n",
    "    case 'celeron':\n",
    "        print('Very Old Processor')\n",
    "    case 'core i3':\n",
    "        print('Good Luck 👍')\n",
    "    case 'core i5':\n",
    "        print('Yeah, You should be fine😁')\n",
    "    case 'core i7':\n",
    "        print('Have Fun 🎉')\n",
    "    case 'core i9':\n",
    "        print('Our Team DESIGNED NICE LOADING SCREENS....Too bad you wont see them...😆' )\n",
    "    case _:\n",
    "        print('Is that even a thing')"
   ]
  },
  {
   "cell_type": "code",
   "execution_count": 12,
   "metadata": {},
   "outputs": [
    {
     "name": "stdout",
     "output_type": "stream",
     "text": [
      "Pulaav is in Menu\n"
     ]
    }
   ],
   "source": [
    "menu = ['Chilli Paneer','Butter Naan','Fried Rice','Kadhai Paneer','Pulaav']\n",
    "item = input('Enter an item :')\n",
    "if item in menu:\n",
    "    print(f'{item} is in Menu')\n",
    "else:\n",
    "    print(f'{item} is not in Menu')\n"
   ]
  },
  {
   "attachments": {},
   "cell_type": "markdown",
   "metadata": {},
   "source": [
    "### Looping(11/04/2023)"
   ]
  },
  {
   "cell_type": "code",
   "execution_count": 8,
   "metadata": {},
   "outputs": [
    {
     "name": "stdout",
     "output_type": "stream",
     "text": [
      "P Y T H O N "
     ]
    }
   ],
   "source": [
    "x='PYTHON'\n",
    "for i in x:\n",
    "    print(i,end=\" \")"
   ]
  },
  {
   "cell_type": "code",
   "execution_count": 23,
   "metadata": {},
   "outputs": [
    {
     "name": "stdout",
     "output_type": "stream",
     "text": [
      "amazon brave chrome docs flipkart gmail gpay hotstar sony voot maps meet music ola rapido paytm spotify telegram instagram whatsapp youtube weather radio photos messages "
     ]
    }
   ],
   "source": [
    "b=['amazon','brave','chrome','docs','flipkart','gmail','gpay',\n",
    "   'hotstar','sony','voot','maps','meet','music','ola','rapido',\n",
    "   'paytm','spotify','telegram','instagram','whatsapp','youtube',\n",
    "   'weather','radio','photos','messages']\n",
    "for i in b:\n",
    "       print(i,end=' ')\n",
    "       "
   ]
  },
  {
   "cell_type": "code",
   "execution_count": 25,
   "metadata": {},
   "outputs": [
    {
     "name": "stdout",
     "output_type": "stream",
     "text": [
      "chrome:2 gmail:5 sony:8 meet:11 rapido:14 telegram:17 "
     ]
    }
   ],
   "source": [
    "b=['amazon','brave','chrome','docs','flipkart','gmail','gpay',\n",
    "   'hotstar','sony','voot','maps','meet','music','ola','rapido',\n",
    "   'paytm','spotify','telegram','instagram','whatsapp','youtube',\n",
    "   'weather','radio','photos','messages']\n",
    "\n",
    "for i in range(2,20,3):\n",
    "    print(b[i],end=f':{i} ')"
   ]
  },
  {
   "cell_type": "code",
   "execution_count": 27,
   "metadata": {},
   "outputs": [
    {
     "name": "stdout",
     "output_type": "stream",
     "text": [
      "(0, 10)\n",
      "(1, 20)\n",
      "(2, 30)\n",
      "(3, 40)\n",
      "(4, 50)\n",
      "(5, 60)\n",
      "(6, 70)\n",
      "(7, 80)\n",
      "(8, 90)\n",
      "(9, 100)\n"
     ]
    }
   ],
   "source": [
    "# Enumerate Function    \n",
    "data=[10,20,30,40,50,60,70,80,90,100]\n",
    "for i in enumerate(data):\n",
    "    print(i)"
   ]
  },
  {
   "cell_type": "code",
   "execution_count": 29,
   "metadata": {},
   "outputs": [
    {
     "name": "stdout",
     "output_type": "stream",
     "text": [
      "3\n",
      "6\n",
      "9\n",
      "12\n",
      "15\n"
     ]
    }
   ],
   "source": [
    "# Zip Function\n",
    "a=[1,2,3,4,5]\n",
    "b=[1,2,3,4,5,6,7,8]\n",
    "c=[1,2,3,4,5,6,7,8,9,10]\n",
    "for i,j,k in zip(b,a,c):\n",
    "    print(i+j+k)"
   ]
  },
  {
   "attachments": {},
   "cell_type": "markdown",
   "metadata": {},
   "source": [
    "### Looping(13/04/2023)"
   ]
  },
  {
   "cell_type": "code",
   "execution_count": 4,
   "metadata": {},
   "outputs": [
    {
     "name": "stdout",
     "output_type": "stream",
     "text": [
      "1 is an Odd Number\n",
      "2 is an Even Number\n",
      "3 is an Odd Number\n",
      "4 is an Even Number\n",
      "5 is an Odd Number\n",
      "6 is an Even Number\n",
      "7 is an Odd Number\n",
      "8 is an Even Number\n",
      "9 is an Odd Number\n",
      "10 is an Even Number\n",
      "11 is an Odd Number\n",
      "12 is an Even Number\n",
      "13 is an Odd Number\n",
      "14 is an Even Number\n",
      "15 is an Odd Number\n",
      "16 is an Even Number\n",
      "17 is an Odd Number\n",
      "18 is an Even Number\n",
      "19 is an Odd Number\n",
      "20 is an Even Number\n",
      "21 is an Odd Number\n",
      "22 is an Even Number\n",
      "23 is an Odd Number\n",
      "24 is an Even Number\n",
      "25 is an Odd Number\n",
      "26 is an Even Number\n",
      "27 is an Odd Number\n",
      "28 is an Even Number\n",
      "29 is an Odd Number\n",
      "30 is an Even Number\n",
      "31 is an Odd Number\n",
      "32 is an Even Number\n",
      "33 is an Odd Number\n",
      "34 is an Even Number\n",
      "35 is an Odd Number\n",
      "36 is an Even Number\n",
      "37 is an Odd Number\n",
      "38 is an Even Number\n",
      "39 is an Odd Number\n",
      "40 is an Even Number\n",
      "41 is an Odd Number\n",
      "42 is an Even Number\n",
      "43 is an Odd Number\n",
      "44 is an Even Number\n",
      "45 is an Odd Number\n",
      "46 is an Even Number\n",
      "47 is an Odd Number\n",
      "48 is an Even Number\n",
      "49 is an Odd Number\n",
      "50 is an Even Number\n",
      "51 is an Odd Number\n",
      "52 is an Even Number\n",
      "53 is an Odd Number\n",
      "54 is an Even Number\n",
      "55 is an Odd Number\n",
      "56 is an Even Number\n",
      "57 is an Odd Number\n",
      "58 is an Even Number\n",
      "59 is an Odd Number\n",
      "60 is an Even Number\n",
      "61 is an Odd Number\n",
      "62 is an Even Number\n",
      "63 is an Odd Number\n",
      "64 is an Even Number\n",
      "65 is an Odd Number\n",
      "66 is an Even Number\n",
      "67 is an Odd Number\n",
      "68 is an Even Number\n",
      "69 is an Odd Number\n",
      "70 is an Even Number\n",
      "71 is an Odd Number\n",
      "72 is an Even Number\n",
      "73 is an Odd Number\n",
      "74 is an Even Number\n",
      "75 is an Odd Number\n",
      "76 is an Even Number\n",
      "77 is an Odd Number\n",
      "78 is an Even Number\n",
      "79 is an Odd Number\n",
      "80 is an Even Number\n",
      "81 is an Odd Number\n",
      "82 is an Even Number\n",
      "83 is an Odd Number\n",
      "84 is an Even Number\n",
      "85 is an Odd Number\n",
      "86 is an Even Number\n",
      "87 is an Odd Number\n",
      "88 is an Even Number\n",
      "89 is an Odd Number\n",
      "90 is an Even Number\n",
      "91 is an Odd Number\n",
      "92 is an Even Number\n",
      "93 is an Odd Number\n",
      "94 is an Even Number\n",
      "95 is an Odd Number\n",
      "96 is an Even Number\n",
      "97 is an Odd Number\n",
      "98 is an Even Number\n",
      "99 is an Odd Number\n",
      "100 is an Even Number\n"
     ]
    }
   ],
   "source": [
    "for i in range(1,101):\n",
    "    if(i%2==0):\n",
    "        print(f'{i} is an Even Number')\n",
    "    else:\n",
    "        print(f'{i} is an Odd Number')"
   ]
  },
  {
   "cell_type": "code",
   "execution_count": 6,
   "metadata": {},
   "outputs": [
    {
     "name": "stdout",
     "output_type": "stream",
     "text": [
      "Sum of squares of elements of list is : 385\n"
     ]
    }
   ],
   "source": [
    "x=0\n",
    "a=[1,2,3,4,5,6,7,8,9,10]\n",
    "for i in a:\n",
    "    x+=(i**2)\n",
    "print(f'Sum of squares of elements of list is : {x}')"
   ]
  },
  {
   "cell_type": "code",
   "execution_count": 10,
   "metadata": {},
   "outputs": [
    {
     "name": "stdout",
     "output_type": "stream",
     "text": [
      "Sum of digits of 4782164 is : 32\n"
     ]
    }
   ],
   "source": [
    "sum=0\n",
    "a=input('Enter a Number: ')\n",
    "for i in a:\n",
    "    sum+=int(i)\n",
    "print(f'Sum of digits of {a} is : {sum}')"
   ]
  },
  {
   "attachments": {},
   "cell_type": "markdown",
   "metadata": {},
   "source": [
    "#### While Loop"
   ]
  },
  {
   "cell_type": "code",
   "execution_count": 11,
   "metadata": {},
   "outputs": [
    {
     "name": "stdout",
     "output_type": "stream",
     "text": [
      "run\n",
      "run\n",
      "run\n",
      "run\n",
      "stop\n"
     ]
    }
   ],
   "source": [
    "x=1\n",
    "while x<5:\n",
    "    print('run')\n",
    "    x+=1\n",
    "print('stop')"
   ]
  },
  {
   "cell_type": "code",
   "execution_count": 17,
   "metadata": {},
   "outputs": [
    {
     "name": "stdout",
     "output_type": "stream",
     "text": [
      "1 2 3 4 5 6 7 8 9 10 11 12 13 14 15 16 17 18 19 20 "
     ]
    }
   ],
   "source": [
    "i=1\n",
    "while(i<=20):\n",
    "    print(i,end=\" \")\n",
    "    i+=1"
   ]
  },
  {
   "cell_type": "code",
   "execution_count": null,
   "metadata": {},
   "outputs": [],
   "source": []
  }
 ],
 "metadata": {
  "kernelspec": {
   "display_name": "Python 3",
   "language": "python",
   "name": "python3"
  },
  "language_info": {
   "codemirror_mode": {
    "name": "ipython",
    "version": 3
   },
   "file_extension": ".py",
   "mimetype": "text/x-python",
   "name": "python",
   "nbconvert_exporter": "python",
   "pygments_lexer": "ipython3",
   "version": "3.10.9"
  },
  "orig_nbformat": 4
 },
 "nbformat": 4,
 "nbformat_minor": 2
}
