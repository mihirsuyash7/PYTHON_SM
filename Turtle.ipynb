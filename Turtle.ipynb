{
 "cells": [
  {
   "cell_type": "code",
   "execution_count": 2,
   "metadata": {},
   "outputs": [],
   "source": [
    "from turtle import *"
   ]
  },
  {
   "cell_type": "code",
   "execution_count": 2,
   "metadata": {},
   "outputs": [],
   "source": [
    "# To draw a Triangle\n",
    "pencolor('red')\n",
    "speed('slowest')\n",
    "forward(80)\n",
    "left(120)\n",
    "forward(80)\n",
    "left(120)\n",
    "forward(80)\n",
    "left(120)\n",
    "mainloop()\n"
   ]
  },
  {
   "cell_type": "code",
   "execution_count": 4,
   "metadata": {},
   "outputs": [],
   "source": [
    "#To draw a Pentagon\n",
    "pencolor('green')\n",
    "speed('slowest')\n",
    "forward(80)\n",
    "left(72)\n",
    "forward(80)\n",
    "left(72)\n",
    "forward(80)\n",
    "left(72)\n",
    "forward(80)\n",
    "left(72)\n",
    "forward(80)\n",
    "left(72)\n",
    "mainloop()"
   ]
  },
  {
   "cell_type": "code",
   "execution_count": 5,
   "metadata": {},
   "outputs": [
    {
     "ename": "Terminator",
     "evalue": "",
     "output_type": "error",
     "traceback": [
      "\u001b[1;31m---------------------------------------------------------------------------\u001b[0m",
      "\u001b[1;31mTerminator\u001b[0m                                Traceback (most recent call last)",
      "Cell \u001b[1;32mIn[5], line 2\u001b[0m\n\u001b[0;32m      1\u001b[0m \u001b[39m#To draw a Hexagon\u001b[39;00m\n\u001b[1;32m----> 2\u001b[0m pencolor(\u001b[39m'\u001b[39;49m\u001b[39mblue\u001b[39;49m\u001b[39m'\u001b[39;49m)\n\u001b[0;32m      3\u001b[0m speed(\u001b[39m'\u001b[39m\u001b[39mslowest\u001b[39m\u001b[39m'\u001b[39m)\n\u001b[0;32m      4\u001b[0m forward(\u001b[39m80\u001b[39m)\n",
      "File \u001b[1;32m<string>:5\u001b[0m, in \u001b[0;36mpencolor\u001b[1;34m(*args)\u001b[0m\n",
      "\u001b[1;31mTerminator\u001b[0m: "
     ]
    }
   ],
   "source": [
    "#To draw a Hexagon\n",
    "pencolor('blue')\n",
    "speed('slowest')\n",
    "forward(80)\n",
    "left(60)\n",
    "forward(80)\n",
    "left(60)\n",
    "forward(80)\n",
    "left(60)\n",
    "forward(80)\n",
    "left(60)\n",
    "forward(80)\n",
    "left(60)\n",
    "forward(80)\n",
    "left(60)\n",
    "mainloop()"
   ]
  },
  {
   "cell_type": "code",
   "execution_count": 6,
   "metadata": {},
   "outputs": [],
   "source": [
    "#To draw a Octagon\n",
    "pencolor('brown')\n",
    "speed('slowest')\n",
    "forward(80)\n",
    "left(45)\n",
    "forward(80)\n",
    "left(45)\n",
    "forward(80)\n",
    "left(45)\n",
    "forward(80)\n",
    "left(45)\n",
    "forward(80)\n",
    "left(45)\n",
    "forward(80)\n",
    "left(45)\n",
    "forward(80)\n",
    "left(45)\n",
    "forward(80)\n",
    "left(45)\n",
    "mainloop()"
   ]
  },
  {
   "cell_type": "code",
   "execution_count": 8,
   "metadata": {},
   "outputs": [],
   "source": [
    "#To draw a Decagon\n",
    "pencolor('black')\n",
    "speed('slowest')\n",
    "forward(80)\n",
    "left(36)\n",
    "forward(80)\n",
    "left(36)\n",
    "forward(80)\n",
    "left(36)\n",
    "forward(80)\n",
    "left(36)\n",
    "forward(80)\n",
    "left(36)\n",
    "forward(80)\n",
    "left(36)\n",
    "forward(80)\n",
    "left(36)\n",
    "forward(80)\n",
    "left(36)\n",
    "forward(80)\n",
    "left(36)\n",
    "forward(80)\n",
    "left(36)\n",
    "mainloop()\n"
   ]
  },
  {
   "cell_type": "code",
   "execution_count": 20,
   "metadata": {},
   "outputs": [],
   "source": [
    "# To draw the user entered Shape\n",
    "i=int(input('Enter the No. of sides of shape: '))\n",
    "ang=(360/i)\n",
    "pencolor('black')\n",
    "pensize(3)\n",
    "speed('slow')\n",
    "for j in range(i):\n",
    "    fd(50)\n",
    "    lt(ang)\n",
    "mainloop()"
   ]
  },
  {
   "cell_type": "code",
   "execution_count": 22,
   "metadata": {},
   "outputs": [],
   "source": [
    "# SQUARE\n",
    "pencolor('black')\n",
    "speed('slow')\n",
    "for i in range(4):\n",
    "    fd(100)\n",
    "    right(90)\n",
    "mainloop()"
   ]
  },
  {
   "cell_type": "code",
   "execution_count": 26,
   "metadata": {},
   "outputs": [],
   "source": [
    "# Letter 'S'\n",
    "pencolor('blue')\n",
    "pensize(3)\n",
    "speed('fastest') \n",
    "for i in range(90):\n",
    "    backward(2)\n",
    "    left(2)\n",
    "for i in range(90):\n",
    "    backward(2)\n",
    "    right(2)    \n",
    "mainloop()"
   ]
  },
  {
   "cell_type": "code",
   "execution_count": 28,
   "metadata": {},
   "outputs": [],
   "source": [
    "# Letters 'U' & 'Y'\n",
    "pencolor('blue')\n",
    "pensize(3)\n",
    "speed('slow')\n",
    "# Alphabet \"U\"\n",
    "right(90)\n",
    "fd(65)\n",
    "for i in range(90):\n",
    "    fd(1)\n",
    "    left(2)\n",
    "fd(65)\n",
    "\n",
    "#Gap Between \"U\" & \"Y\"\n",
    "up()\n",
    "right(180)\n",
    "fd(25)\n",
    "left(90)\n",
    "fd(50)\n",
    "\n",
    "# Alphabet \"Y\"\n",
    "down()\n",
    "right(90)\n",
    "fd(50)\n",
    "right(180)\n",
    "penup()\n",
    "fd(50)\n",
    "left(45)\n",
    "down()\n",
    "fd(50)\n",
    "up()\n",
    "back(50)\n",
    "right(90)\n",
    "pendown()\n",
    "\n",
    "fd(50)\n",
    "\n",
    "mainloop()"
   ]
  },
  {
   "cell_type": "code",
   "execution_count": 24,
   "metadata": {},
   "outputs": [],
   "source": [
    "hideturtle() # To hide the turtle marker/icon\n",
    "fillcolor('red') # To select the color to be filled in the shape that is to be drawn    \n",
    "begin_fill() # To initiate the function to fill the shape to be drawn with the color specified in the fillcolor method\n",
    "for i in range(5): # To draw a pentagon\n",
    "    fd(100)\n",
    "    lt(72)\n",
    "end_fill() # To call the function to actually fill the drawn shape with the specified color\n",
    "fillcolor('yellow')\n",
    "begin_fill()\n",
    "lt(18)\n",
    "circle(50) # Function to draw a circle with radius passed as parameter\n",
    "end_fill()\n",
    "mainloop() # Holds the output window until user gives an input(generally closing the output window), mainloop() in python is same as getch() in c"
   ]
  },
  {
   "cell_type": "code",
   "execution_count": 32,
   "metadata": {},
   "outputs": [],
   "source": [
    "# SQUARE inside a SQUARE\n",
    "ht()\n",
    "pencolor('black')\n",
    "speed(3)\n",
    "fillcolor('green')\n",
    "begin_fill()\n",
    "for i in range(4):\n",
    "    fd(200)\n",
    "    rt(90)\n",
    "end_fill()\n",
    "penup()\n",
    "fillcolor('yellow')\n",
    "setposition(40,-40)\n",
    "pendown()\n",
    "begin_fill()\n",
    "for i in range(4):\n",
    "    forward(120)\n",
    "    rt(90)\n",
    "end_fill()\n",
    "mainloop()"
   ]
  },
  {
   "cell_type": "code",
   "execution_count": null,
   "metadata": {},
   "outputs": [],
   "source": []
  }
 ],
 "metadata": {
  "kernelspec": {
   "display_name": "base",
   "language": "python",
   "name": "python3"
  },
  "language_info": {
   "codemirror_mode": {
    "name": "ipython",
    "version": 3
   },
   "file_extension": ".py",
   "mimetype": "text/x-python",
   "name": "python",
   "nbconvert_exporter": "python",
   "pygments_lexer": "ipython3",
   "version": "3.10.9"
  },
  "orig_nbformat": 4
 },
 "nbformat": 4,
 "nbformat_minor": 2
}
