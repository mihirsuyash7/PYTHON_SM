{
 "cells": [
  {
   "cell_type": "code",
   "execution_count": 2,
   "metadata": {},
   "outputs": [],
   "source": [
    "from dputils.scrape import Scraper,Tag"
   ]
  },
  {
   "cell_type": "code",
   "execution_count": 3,
   "metadata": {},
   "outputs": [],
   "source": [
    "def get_data(query, page=1):\n",
    "    url = f'https://www.amazon.in/s?k={query}&page={page}'\n",
    "    scraper = Scraper(url)\n",
    "    print(scraper.url)\n",
    "    target = Tag(cls='s-main-slot s-result-list s-search-results sg-row')\n",
    "    items = Tag(cls='sg-col-4-of-24 sg-col-4-of-12 s-result-item s-asin sg-col-4-of-16 sg-col s-widget-spacing-small sg-col-4-of-20')\n",
    "    title = Tag('h2')\n",
    "    price = Tag('span', cls='a-price-whole')\n",
    "    rating =Tag('span', cls='a-size-base')\n",
    "    oprice = Tag('span', cls='a-offscreen')\n",
    "    brand = Tag('h5')\n",
    "    out = scraper.get_all(target, items, \n",
    "                    title=title, price=price,\n",
    "                    rating=rating, oprice=oprice,\n",
    "                    brand=brand)\n",
    "    return out"
   ]
  },
  {
   "cell_type": "code",
   "execution_count": 4,
   "metadata": {},
   "outputs": [
    {
     "name": "stdout",
     "output_type": "stream",
     "text": [
      "https://www.amazon.in/s?k=watch&page=1\n",
      "Page 1 done\n",
      "https://www.amazon.in/s?k=watch&page=2\n",
      "Page 2 done\n",
      "https://www.amazon.in/s?k=watch&page=3\n",
      "Page 3 done\n",
      "https://www.amazon.in/s?k=watch&page=4\n",
      "Page 4 done\n",
      "https://www.amazon.in/s?k=watch&page=5\n",
      "Page 5 done\n",
      "https://www.amazon.in/s?k=watch&page=6\n",
      "Page 6 done\n",
      "https://www.amazon.in/s?k=watch&page=7\n",
      "Page 7 done\n",
      "https://www.amazon.in/s?k=watch&page=8\n",
      "Page 8 done\n",
      "https://www.amazon.in/s?k=watch&page=9\n",
      "Page 9 done\n",
      "https://www.amazon.in/s?k=watch&page=10\n",
      "Page 10 done\n",
      "https://www.amazon.in/s?k=watch&page=11\n",
      "Page 11 done\n",
      "https://www.amazon.in/s?k=watch&page=12\n",
      "Page 12 done\n",
      "https://www.amazon.in/s?k=watch&page=13\n",
      "Page 13 done\n",
      "https://www.amazon.in/s?k=watch&page=14\n",
      "Page 14 done\n"
     ]
    }
   ],
   "source": [
    "import pandas as pd\n",
    "query = 'watch'\n",
    "all_data = []\n",
    "for i in range(1, 15):\n",
    "    data = get_data(query, i)\n",
    "    all_data.extend(data)\n",
    "    print(f'Page {i} done')\n",
    "df = pd.DataFrame(all_data).dropna(how='all')\n",
    "df.to_csv('watches.csv', index=False)"
   ]
  },
  {
   "cell_type": "code",
   "execution_count": 14,
   "metadata": {},
   "outputs": [
    {
     "name": "stdout",
     "output_type": "stream",
     "text": [
      "<class 'pandas.core.frame.DataFrame'>\n",
      "RangeIndex: 306 entries, 0 to 305\n",
      "Data columns (total 6 columns):\n",
      " #   Column      Non-Null Count  Dtype \n",
      "---  ------      --------------  ----- \n",
      " 0   title       306 non-null    object\n",
      " 1   price       299 non-null    object\n",
      " 2   rating      306 non-null    object\n",
      " 3   oprice      299 non-null    object\n",
      " 4   brand       304 non-null    object\n",
      " 5   New_Oprice  299 non-null    object\n",
      "dtypes: object(6)\n",
      "memory usage: 14.5+ KB\n"
     ]
    }
   ],
   "source": [
    "df.info()"
   ]
  }
 ],
 "metadata": {
  "kernelspec": {
   "display_name": "base",
   "language": "python",
   "name": "python3"
  },
  "language_info": {
   "codemirror_mode": {
    "name": "ipython",
    "version": 3
   },
   "file_extension": ".py",
   "mimetype": "text/x-python",
   "name": "python",
   "nbconvert_exporter": "python",
   "pygments_lexer": "ipython3",
   "version": "3.10.9"
  },
  "orig_nbformat": 4
 },
 "nbformat": 4,
 "nbformat_minor": 2
}
