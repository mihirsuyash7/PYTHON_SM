{
 "cells": [
  {
   "attachments": {},
   "cell_type": "markdown",
   "metadata": {},
   "source": [
    "### String(18/04/2023)"
   ]
  },
  {
   "cell_type": "code",
   "execution_count": 3,
   "metadata": {},
   "outputs": [
    {
     "name": "stdout",
     "output_type": "stream",
     "text": [
      "PTO\n"
     ]
    }
   ],
   "source": [
    "str='PYTHON'\n",
    "print(str[0:6:2])"
   ]
  },
  {
   "cell_type": "code",
   "execution_count": 10,
   "metadata": {},
   "outputs": [
    {
     "name": "stdout",
     "output_type": "stream",
     "text": [
      "A\n",
      "65\n",
      "128077\n"
     ]
    }
   ],
   "source": [
    "print(chr(65)) #returns the ascii character specified at the given integer value\n",
    "print(ord('A')) #returns the integer value of the specified ascii character\n",
    "print(ord('👍')) #returns the integer value of the specified ascii character(emoji)"
   ]
  },
  {
   "cell_type": "code",
   "execution_count": 11,
   "metadata": {},
   "outputs": [
    {
     "name": "stdout",
     "output_type": "stream",
     "text": [
      "Hello World\n"
     ]
    }
   ],
   "source": [
    "print('Hello'+' World')"
   ]
  },
  {
   "cell_type": "code",
   "execution_count": 19,
   "metadata": {},
   "outputs": [
    {
     "name": "stdout",
     "output_type": "stream",
     "text": [
      "Suyash mihir\n",
      "SUYASH MIHIR\n",
      "suyash mihir\n",
      "False\n",
      "suyash mihir\n"
     ]
    }
   ],
   "source": [
    "a='suyash mihir'\n",
    "print(a.capitalize())\n",
    "print(a.upper())\n",
    "print(a.lower())\n",
    "print(a.isupper())\n",
    "print(a.casefold())"
   ]
  },
  {
   "cell_type": "code",
   "execution_count": 20,
   "metadata": {},
   "outputs": [
    {
     "name": "stdout",
     "output_type": "stream",
     "text": [
      "he is a smart Boy\n"
     ]
    }
   ],
   "source": [
    "x='he is a smart '\n",
    "y='boy'\n",
    "print(x+y.title())"
   ]
  },
  {
   "cell_type": "code",
   "execution_count": 30,
   "metadata": {},
   "outputs": [
    {
     "name": "stdout",
     "output_type": "stream",
     "text": [
      "String : Hello World \n",
      "First Word of the given sentence : Hello\n"
     ]
    }
   ],
   "source": [
    "str=input('Enter a String :')\n",
    "print(f'String : {str}')\n",
    "list=(str.split(' '))\n",
    "print(f'First Word of the given Sentence : {list[0]}')"
   ]
  },
  {
   "cell_type": "code",
   "execution_count": 32,
   "metadata": {},
   "outputs": [
    {
     "name": "stdout",
     "output_type": "stream",
     "text": [
      "['Hello', 'World']\n"
     ]
    }
   ],
   "source": [
    "str='''Hello\n",
    "World'''\n",
    "print(str.splitlines())"
   ]
  },
  {
   "cell_type": "code",
   "execution_count": 43,
   "metadata": {},
   "outputs": [
    {
     "data": {
      "text/plain": [
       "'J*hny J*hny Y*s P*p*, E*t*ng S*g*r N* P*p*, T*ll*ng L**s N* P*p*, Op*n Y**r M**th H* H* H*'"
      ]
     },
     "execution_count": 43,
     "metadata": {},
     "output_type": "execute_result"
    }
   ],
   "source": [
    "a='Johny Johny Yes Papa, Eating Sugar No Papa, Telling Lies No Papa, Open Your Mouth Ha Ha Ha'\n",
    "a.replace('a','*').replace('e','*').replace('i','*').replace('o','*').replace('u','*')"
   ]
  },
  {
   "cell_type": "code",
   "execution_count": 45,
   "metadata": {},
   "outputs": [
    {
     "data": {
      "text/plain": [
       "'C:/Users/win-10/practice2.ipynb'"
      ]
     },
     "execution_count": 45,
     "metadata": {},
     "output_type": "execute_result"
    }
   ],
   "source": [
    "a=['C:','Users','win-10','practice2.ipynb']\n",
    "'/'.join(a) #join function"
   ]
  },
  {
   "cell_type": "code",
   "execution_count": 47,
   "metadata": {},
   "outputs": [
    {
     "name": "stdout",
     "output_type": "stream",
     "text": [
      "2\n"
     ]
    }
   ],
   "source": [
    "str='Hello'\n",
    "print(str.find('l')) #find function - returns the index of the first occurrence of the given character/word in the string"
   ]
  },
  {
   "attachments": {},
   "cell_type": "markdown",
   "metadata": {},
   "source": [
    "### FUNCTIONS(27/04/23)"
   ]
  },
  {
   "cell_type": "code",
   "execution_count": 1,
   "metadata": {},
   "outputs": [
    {
     "name": "stdout",
     "output_type": "stream",
     "text": [
      "Welcome to the  function\n",
      "Hope you are happy\n",
      "Thank you\n"
     ]
    }
   ],
   "source": [
    "def greetings():\n",
    "    print('Welcome to the  function')\n",
    "    print('Hope you are happy')\n",
    "    print('Thank you')\n",
    "\n",
    "greetings()"
   ]
  },
  {
   "cell_type": "code",
   "execution_count": 7,
   "metadata": {},
   "outputs": [
    {
     "name": "stdout",
     "output_type": "stream",
     "text": [
      "Sum of 5 and 6 : 11\n"
     ]
    }
   ],
   "source": [
    "def add(a,b):\n",
    "    print(f'Sum of {a} and {b} : ',end=\"\")\n",
    "    return a+b\n",
    "print(add(5,6))"
   ]
  },
  {
   "cell_type": "code",
   "execution_count": 10,
   "metadata": {},
   "outputs": [
    {
     "name": "stdout",
     "output_type": "stream",
     "text": [
      "Square of 5 : 25\n"
     ]
    }
   ],
   "source": [
    "def find_square(a):\n",
    "    return a*a\n",
    "print('Square of 5 :',find_square(5))"
   ]
  },
  {
   "cell_type": "code",
   "execution_count": 11,
   "metadata": {},
   "outputs": [
    {
     "name": "stdout",
     "output_type": "stream",
     "text": [
      "(6, 2, 8, 2, 16)\n"
     ]
    }
   ],
   "source": [
    "# Returning Multiple Values/arguments from a function\n",
    "# Arguments are returned in form of a tuple\n",
    "# with every returned argument as a tuple element\n",
    "def my_func(x,y):\n",
    "    a=x+y\n",
    "    b=x-y\n",
    "    c=x*y\n",
    "    d=x//y\n",
    "    s=x**y\n",
    "    return a,b,c,d,s\n",
    "\n",
    "print(my_func(4,2))"
   ]
  },
  {
   "cell_type": "code",
   "execution_count": 12,
   "metadata": {},
   "outputs": [
    {
     "name": "stdout",
     "output_type": "stream",
     "text": [
      "Sum : 6\n",
      "Difference : 2\n",
      "Product : 8\n",
      "Quotient : 2\n",
      "Power : 16\n"
     ]
    }
   ],
   "source": [
    "a,b,c,d,e=my_func(4,2)\n",
    "print(f'Sum : {a}\\nDifference : {b}\\nProduct : {c}\\nQuotient : {d}\\nPower : {e}')"
   ]
  },
  {
   "cell_type": "code",
   "execution_count": 17,
   "metadata": {},
   "outputs": [
    {
     "name": "stdout",
     "output_type": "stream",
     "text": [
      "5 is an Odd Number\n"
     ]
    }
   ],
   "source": [
    "def OddEven(a):\n",
    "    if a%2==0:\n",
    "        return f'{a} is an Even Number'\n",
    "    else:\n",
    "        return f'{a} is an Odd Number'\n",
    "    \n",
    "print(OddEven(5))"
   ]
  },
  {
   "attachments": {},
   "cell_type": "markdown",
   "metadata": {},
   "source": [
    "### TYPES OF FUNCTIONS (29/04/23)"
   ]
  },
  {
   "attachments": {},
   "cell_type": "markdown",
   "metadata": {},
   "source": [
    "#### Parameterized Functions"
   ]
  },
  {
   "cell_type": "code",
   "execution_count": 10,
   "metadata": {},
   "outputs": [
    {
     "name": "stdout",
     "output_type": "stream",
     "text": [
      "21 is not a Prime Number\n"
     ]
    }
   ],
   "source": [
    "def prime(num):\n",
    "    for i in range (2,num):\n",
    "        if(num%i==0):\n",
    "            return (f'{num} is not a Prime Number')\n",
    "        else:\n",
    "            continue\n",
    "    else:\n",
    "        return (f'{num} is a Prime Number')\n",
    "\n",
    "print(prime(21))"
   ]
  },
  {
   "cell_type": "code",
   "execution_count": 14,
   "metadata": {},
   "outputs": [
    {
     "name": "stdout",
     "output_type": "stream",
     "text": [
      "Average of [1, 2, 3, 4, 5, 6, 7, 8, 9, 10] is : 5\n"
     ]
    }
   ],
   "source": [
    "def average(num):\n",
    "    sum=0\n",
    "    for i in num:\n",
    "        sum+=i\n",
    "    avg=sum//(len(num))\n",
    "    return f'Average of {num} is : {avg}'\n",
    "\n",
    "a=[1,2,3,4,5,6,7,8,9,10]\n",
    "print(average(a))       "
   ]
  },
  {
   "attachments": {},
   "cell_type": "markdown",
   "metadata": {},
   "source": [
    "#### Default Functions"
   ]
  },
  {
   "cell_type": "code",
   "execution_count": 18,
   "metadata": {},
   "outputs": [
    {
     "data": {
      "text/plain": [
       "'Average of 50 and 100 : 75'"
      ]
     },
     "execution_count": 18,
     "metadata": {},
     "output_type": "execute_result"
    }
   ],
   "source": [
    "def average(num1=50,num2=100):\n",
    "    return f'Average of {num1} and {num2} : {(num1+num2)//2}'\n",
    "\n",
    "average()"
   ]
  },
  {
   "attachments": {},
   "cell_type": "markdown",
   "metadata": {},
   "source": [
    "#### Anonymous Functions (using Lambda Funtion)"
   ]
  },
  {
   "cell_type": "code",
   "execution_count": 24,
   "metadata": {},
   "outputs": [
    {
     "name": "stdout",
     "output_type": "stream",
     "text": [
      "Sum of 5 & 10 is : 15\n"
     ]
    }
   ],
   "source": [
    "a = (lambda x,y :(f'Sum of {x} & {y} is : {x+y}'))\n",
    "print(a(5,10))"
   ]
  },
  {
   "cell_type": "code",
   "execution_count": 3,
   "metadata": {},
   "outputs": [
    {
     "name": "stdout",
     "output_type": "stream",
     "text": [
      "Sum of 5 & 10 is : 15\n"
     ]
    }
   ],
   "source": [
    "# Actual use of Lambda Function\n",
    "print((lambda x,y :(f'Sum of {x} & {y} is : {x+y}'))(5,10))"
   ]
  },
  {
   "cell_type": "code",
   "execution_count": 27,
   "metadata": {},
   "outputs": [
    {
     "name": "stdout",
     "output_type": "stream",
     "text": [
      "Average Of 1,2,3,4,5,6,7,8,9,10 is : 5\n"
     ]
    }
   ],
   "source": [
    "Average = lambda num : sum(num)//len(num)\n",
    "print(f'Average Of 1,2,3,4,5,6,7,8,9,10 is : {Average([1,2,3,4,5,6,7,8,9,10])}')"
   ]
  },
  {
   "attachments": {},
   "cell_type": "markdown",
   "metadata": {},
   "source": [
    "#### Generator Functions"
   ]
  },
  {
   "cell_type": "code",
   "execution_count": 31,
   "metadata": {},
   "outputs": [
    {
     "name": "stdout",
     "output_type": "stream",
     "text": [
      "1\n",
      "125\n",
      "343\n"
     ]
    }
   ],
   "source": [
    "def get_cube(*args):\n",
    "    for i in args:\n",
    "        yield i**3\n",
    "\n",
    "for i in get_cube(1,5,7):\n",
    "    print(i)\n"
   ]
  },
  {
   "cell_type": "code",
   "execution_count": 34,
   "metadata": {},
   "outputs": [
    {
     "data": {
      "text/plain": [
       "64"
      ]
     },
     "execution_count": 34,
     "metadata": {},
     "output_type": "execute_result"
    }
   ],
   "source": [
    "cubes = get_cube(4)\n",
    "\n",
    "next(cubes)"
   ]
  },
  {
   "cell_type": "code",
   "execution_count": null,
   "metadata": {},
   "outputs": [],
   "source": []
  }
 ],
 "metadata": {
  "kernelspec": {
   "display_name": "base",
   "language": "python",
   "name": "python3"
  },
  "language_info": {
   "codemirror_mode": {
    "name": "ipython",
    "version": 3
   },
   "file_extension": ".py",
   "mimetype": "text/x-python",
   "name": "python",
   "nbconvert_exporter": "python",
   "pygments_lexer": "ipython3",
   "version": "3.10.9"
  },
  "orig_nbformat": 4
 },
 "nbformat": 4,
 "nbformat_minor": 2
}
